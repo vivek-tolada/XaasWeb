{
 "cells": [
  {
   "cell_type": "code",
   "execution_count": 2,
   "id": "890fa94b-9047-4317-a76a-cd358f1dd73f",
   "metadata": {},
   "outputs": [
    {
     "name": "stdout",
     "output_type": "stream",
     "text": [
      "Class\n",
      "0    4508\n",
      "1     492\n",
      "Name: count, dtype: int64\n"
     ]
    }
   ],
   "source": [
    "import pandas as pd\n",
    "from sklearn.model_selection import train_test_split\n",
    "from sklearn.preprocessing import StandardScaler\n",
    "\n",
    "df = pd.read_csv(\"creditcard_small.csv\")\n",
    "print(df[\"Class\"].value_counts())  \n",
    "\n",
    "X = df.drop(\"Class\", axis=1)\n",
    "y = df[\"Class\"]\n",
    "\n",
    "scaler = StandardScaler()\n",
    "X[[\"Time\", \"Amount\"]] = scaler.fit_transform(X[[\"Time\", \"Amount\"]])\n",
    "\n",
    "X_train, X_test, y_train, y_test = train_test_split(\n",
    "    X, y, test_size=0.2, random_state=42, stratify=y\n",
    ")"
   ]
  },
  {
   "cell_type": "code",
   "execution_count": 3,
   "id": "81eb5aa7-709c-4ef0-839a-000950d639da",
   "metadata": {},
   "outputs": [
    {
     "name": "stdout",
     "output_type": "stream",
     "text": [
      "Isolation Forest:\n",
      "               precision    recall  f1-score   support\n",
      "\n",
      "           0       0.94      0.99      0.96       902\n",
      "           1       0.80      0.41      0.54        98\n",
      "\n",
      "    accuracy                           0.93      1000\n",
      "   macro avg       0.87      0.70      0.75      1000\n",
      "weighted avg       0.93      0.93      0.92      1000\n",
      "\n"
     ]
    }
   ],
   "source": [
    "from sklearn.ensemble import IsolationForest\n",
    "from sklearn.metrics import classification_report\n",
    "\n",
    "iso_forest = IsolationForest(contamination=0.05, random_state=42)\n",
    "y_pred_if = iso_forest.fit_predict(X_test)\n",
    "\n",
    "y_pred_if = [1 if x == -1 else 0 for x in y_pred_if]\n",
    "\n",
    "print(\"Isolation Forest:\\n\", classification_report(y_test, y_pred_if))"
   ]
  },
  {
   "cell_type": "code",
   "execution_count": 4,
   "id": "9b2c5594-2699-4f5f-844f-c7f8f1803bf3",
   "metadata": {},
   "outputs": [
    {
     "name": "stdout",
     "output_type": "stream",
     "text": [
      "Random Forest:\n",
      "               precision    recall  f1-score   support\n",
      "\n",
      "           0       0.99      1.00      0.99       902\n",
      "           1       1.00      0.89      0.94        98\n",
      "\n",
      "    accuracy                           0.99      1000\n",
      "   macro avg       0.99      0.94      0.97      1000\n",
      "weighted avg       0.99      0.99      0.99      1000\n",
      "\n"
     ]
    }
   ],
   "source": [
    "from sklearn.ensemble import RandomForestClassifier\n",
    "\n",
    "clf = RandomForestClassifier(n_estimators=100, random_state=42)\n",
    "clf.fit(X_train, y_train)\n",
    "y_pred_clf = clf.predict(X_test)\n",
    "\n",
    "print(\"Random Forest:\\n\", classification_report(y_test, y_pred_clf))"
   ]
  },
  {
   "cell_type": "code",
   "execution_count": 5,
   "id": "0ff5cbcf-3615-49cc-961d-6f1a3b3d3b32",
   "metadata": {},
   "outputs": [
    {
     "name": "stdout",
     "output_type": "stream",
     "text": [
      "True Label: 0, Predicted: 0\n"
     ]
    }
   ],
   "source": [
    "sample = X_test.iloc[0:1]\n",
    "true_label = y_test.iloc[0]\n",
    "predicted = clf.predict(sample)[0]\n",
    "\n",
    "print(f\"True Label: {true_label}, Predicted: {predicted}\")"
   ]
  },
  {
   "cell_type": "code",
   "execution_count": null,
   "id": "4de51481-5318-488d-aabe-094cd6a46b23",
   "metadata": {},
   "outputs": [],
   "source": []
  }
 ],
 "metadata": {
  "kernelspec": {
   "display_name": "Python 3 (ipykernel)",
   "language": "python",
   "name": "python3"
  },
  "language_info": {
   "codemirror_mode": {
    "name": "ipython",
    "version": 3
   },
   "file_extension": ".py",
   "mimetype": "text/x-python",
   "name": "python",
   "nbconvert_exporter": "python",
   "pygments_lexer": "ipython3",
   "version": "3.11.8"
  }
 },
 "nbformat": 4,
 "nbformat_minor": 5
}
