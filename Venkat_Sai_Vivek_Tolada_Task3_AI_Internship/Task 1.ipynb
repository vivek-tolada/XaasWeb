{
 "cells": [
  {
   "cell_type": "code",
   "execution_count": 1,
   "id": "bc604847-b86c-4cb0-b172-3ba2ab30a404",
   "metadata": {},
   "outputs": [],
   "source": [
    "import numpy as np\n",
    "import pandas as pd\n",
    "import matplotlib.pyplot as plt\n",
    "import seaborn as sns\n",
    "\n",
    "from sklearn.model_selection import train_test_split\n",
    "from sklearn.preprocessing import StandardScaler\n",
    "\n",
    "import tensorflow as tf\n",
    "from tensorflow import keras\n",
    "from tensorflow.keras import layers"
   ]
  },
  {
   "cell_type": "code",
   "execution_count": 3,
   "id": "cd70d6cb-09d2-4f85-87e9-38b491974c7e",
   "metadata": {},
   "outputs": [],
   "source": [
    "df = pd.read_csv('creditcard_small.csv')"
   ]
  },
  {
   "cell_type": "code",
   "execution_count": 4,
   "id": "66cedfd7-b48a-4da9-b651-02ab458e3faa",
   "metadata": {},
   "outputs": [
    {
     "data": {
      "text/html": [
       "<div>\n",
       "<style scoped>\n",
       "    .dataframe tbody tr th:only-of-type {\n",
       "        vertical-align: middle;\n",
       "    }\n",
       "\n",
       "    .dataframe tbody tr th {\n",
       "        vertical-align: top;\n",
       "    }\n",
       "\n",
       "    .dataframe thead th {\n",
       "        text-align: right;\n",
       "    }\n",
       "</style>\n",
       "<table border=\"1\" class=\"dataframe\">\n",
       "  <thead>\n",
       "    <tr style=\"text-align: right;\">\n",
       "      <th></th>\n",
       "      <th>0</th>\n",
       "      <th>1</th>\n",
       "      <th>2</th>\n",
       "      <th>3</th>\n",
       "      <th>4</th>\n",
       "      <th>5</th>\n",
       "      <th>6</th>\n",
       "      <th>7</th>\n",
       "      <th>8</th>\n",
       "      <th>9</th>\n",
       "      <th>...</th>\n",
       "      <th>21</th>\n",
       "      <th>22</th>\n",
       "      <th>23</th>\n",
       "      <th>24</th>\n",
       "      <th>25</th>\n",
       "      <th>26</th>\n",
       "      <th>27</th>\n",
       "      <th>28</th>\n",
       "      <th>29</th>\n",
       "      <th>Class</th>\n",
       "    </tr>\n",
       "  </thead>\n",
       "  <tbody>\n",
       "    <tr>\n",
       "      <th>0</th>\n",
       "      <td>0.496714</td>\n",
       "      <td>-0.138264</td>\n",
       "      <td>0.647689</td>\n",
       "      <td>1.523030</td>\n",
       "      <td>-0.234153</td>\n",
       "      <td>-0.234137</td>\n",
       "      <td>1.579213</td>\n",
       "      <td>0.767435</td>\n",
       "      <td>-0.469474</td>\n",
       "      <td>0.542560</td>\n",
       "      <td>...</td>\n",
       "      <td>-0.225776</td>\n",
       "      <td>0.067528</td>\n",
       "      <td>-1.424748</td>\n",
       "      <td>-0.544383</td>\n",
       "      <td>0.110923</td>\n",
       "      <td>-1.150994</td>\n",
       "      <td>0.375698</td>\n",
       "      <td>-0.600639</td>\n",
       "      <td>-0.291694</td>\n",
       "      <td>0.0</td>\n",
       "    </tr>\n",
       "    <tr>\n",
       "      <th>1</th>\n",
       "      <td>-0.601707</td>\n",
       "      <td>1.852278</td>\n",
       "      <td>-0.013497</td>\n",
       "      <td>-1.057711</td>\n",
       "      <td>0.822545</td>\n",
       "      <td>-1.220844</td>\n",
       "      <td>0.208864</td>\n",
       "      <td>-1.959670</td>\n",
       "      <td>-1.328186</td>\n",
       "      <td>0.196861</td>\n",
       "      <td>...</td>\n",
       "      <td>-0.385082</td>\n",
       "      <td>-0.676922</td>\n",
       "      <td>0.611676</td>\n",
       "      <td>1.031000</td>\n",
       "      <td>0.931280</td>\n",
       "      <td>-0.839218</td>\n",
       "      <td>-0.309212</td>\n",
       "      <td>0.331263</td>\n",
       "      <td>0.975545</td>\n",
       "      <td>0.0</td>\n",
       "    </tr>\n",
       "    <tr>\n",
       "      <th>2</th>\n",
       "      <td>-0.479174</td>\n",
       "      <td>-0.185659</td>\n",
       "      <td>-1.106335</td>\n",
       "      <td>-1.196207</td>\n",
       "      <td>0.812526</td>\n",
       "      <td>1.356240</td>\n",
       "      <td>-0.072010</td>\n",
       "      <td>1.003533</td>\n",
       "      <td>0.361636</td>\n",
       "      <td>-0.645120</td>\n",
       "      <td>...</td>\n",
       "      <td>0.357113</td>\n",
       "      <td>1.477894</td>\n",
       "      <td>-0.518270</td>\n",
       "      <td>-0.808494</td>\n",
       "      <td>-0.501757</td>\n",
       "      <td>0.915402</td>\n",
       "      <td>0.328751</td>\n",
       "      <td>-0.529760</td>\n",
       "      <td>0.513267</td>\n",
       "      <td>0.0</td>\n",
       "    </tr>\n",
       "    <tr>\n",
       "      <th>3</th>\n",
       "      <td>0.097078</td>\n",
       "      <td>0.968645</td>\n",
       "      <td>-0.702053</td>\n",
       "      <td>-0.327662</td>\n",
       "      <td>-0.392108</td>\n",
       "      <td>-1.463515</td>\n",
       "      <td>0.296120</td>\n",
       "      <td>0.261055</td>\n",
       "      <td>0.005113</td>\n",
       "      <td>-0.234587</td>\n",
       "      <td>...</td>\n",
       "      <td>-0.026514</td>\n",
       "      <td>0.060230</td>\n",
       "      <td>2.463242</td>\n",
       "      <td>-0.192361</td>\n",
       "      <td>0.301547</td>\n",
       "      <td>-0.034712</td>\n",
       "      <td>-1.168678</td>\n",
       "      <td>1.142823</td>\n",
       "      <td>0.751933</td>\n",
       "      <td>0.0</td>\n",
       "    </tr>\n",
       "    <tr>\n",
       "      <th>4</th>\n",
       "      <td>0.791032</td>\n",
       "      <td>-0.909387</td>\n",
       "      <td>1.402794</td>\n",
       "      <td>-1.401851</td>\n",
       "      <td>0.586857</td>\n",
       "      <td>2.190456</td>\n",
       "      <td>-0.990536</td>\n",
       "      <td>-0.566298</td>\n",
       "      <td>0.099651</td>\n",
       "      <td>-0.503476</td>\n",
       "      <td>...</td>\n",
       "      <td>1.307143</td>\n",
       "      <td>-1.607483</td>\n",
       "      <td>0.184634</td>\n",
       "      <td>0.259883</td>\n",
       "      <td>0.781823</td>\n",
       "      <td>-1.236951</td>\n",
       "      <td>-1.320457</td>\n",
       "      <td>0.521942</td>\n",
       "      <td>0.296985</td>\n",
       "      <td>0.0</td>\n",
       "    </tr>\n",
       "  </tbody>\n",
       "</table>\n",
       "<p>5 rows × 31 columns</p>\n",
       "</div>"
      ],
      "text/plain": [
       "          0         1         2         3         4         5         6  \\\n",
       "0  0.496714 -0.138264  0.647689  1.523030 -0.234153 -0.234137  1.579213   \n",
       "1 -0.601707  1.852278 -0.013497 -1.057711  0.822545 -1.220844  0.208864   \n",
       "2 -0.479174 -0.185659 -1.106335 -1.196207  0.812526  1.356240 -0.072010   \n",
       "3  0.097078  0.968645 -0.702053 -0.327662 -0.392108 -1.463515  0.296120   \n",
       "4  0.791032 -0.909387  1.402794 -1.401851  0.586857  2.190456 -0.990536   \n",
       "\n",
       "          7         8         9  ...        21        22        23        24  \\\n",
       "0  0.767435 -0.469474  0.542560  ... -0.225776  0.067528 -1.424748 -0.544383   \n",
       "1 -1.959670 -1.328186  0.196861  ... -0.385082 -0.676922  0.611676  1.031000   \n",
       "2  1.003533  0.361636 -0.645120  ...  0.357113  1.477894 -0.518270 -0.808494   \n",
       "3  0.261055  0.005113 -0.234587  ... -0.026514  0.060230  2.463242 -0.192361   \n",
       "4 -0.566298  0.099651 -0.503476  ...  1.307143 -1.607483  0.184634  0.259883   \n",
       "\n",
       "         25        26        27        28        29  Class  \n",
       "0  0.110923 -1.150994  0.375698 -0.600639 -0.291694    0.0  \n",
       "1  0.931280 -0.839218 -0.309212  0.331263  0.975545    0.0  \n",
       "2 -0.501757  0.915402  0.328751 -0.529760  0.513267    0.0  \n",
       "3  0.301547 -0.034712 -1.168678  1.142823  0.751933    0.0  \n",
       "4  0.781823 -1.236951 -1.320457  0.521942  0.296985    0.0  \n",
       "\n",
       "[5 rows x 31 columns]"
      ]
     },
     "execution_count": 4,
     "metadata": {},
     "output_type": "execute_result"
    }
   ],
   "source": [
    "# Simulated example\n",
    "np.random.seed(42)\n",
    "\n",
    "n_normal = 10000\n",
    "n_anomaly = 200\n",
    "\n",
    "# Normal transactions\n",
    "normal_data = np.random.normal(0, 1, (n_normal, 30))\n",
    "\n",
    "# Anomalous transactions (shifted mean)\n",
    "anomaly_data = np.random.normal(4, 1, (n_anomaly, 30))\n",
    "\n",
    "# Combine\n",
    "X = np.vstack([normal_data, anomaly_data])\n",
    "y = np.hstack([np.zeros(n_normal), np.ones(n_anomaly)])\n",
    "\n",
    "df = pd.DataFrame(X)\n",
    "df['Class'] = y\n",
    "\n",
    "df.head()"
   ]
  },
  {
   "cell_type": "code",
   "execution_count": 5,
   "id": "e2207edb-e96c-427c-9c7a-2288322d7953",
   "metadata": {},
   "outputs": [
    {
     "name": "stdout",
     "output_type": "stream",
     "text": [
      "Train shape: (8000, 30)\n",
      "Test shape: (2200, 30)\n"
     ]
    }
   ],
   "source": [
    "# Split features and target\n",
    "X = df.drop('Class', axis=1)\n",
    "y = df['Class']\n",
    "\n",
    "# Standardize\n",
    "scaler = StandardScaler()\n",
    "X_scaled = scaler.fit_transform(X)\n",
    "\n",
    "# Split normal vs anomalies\n",
    "X_normal = X_scaled[y == 0]\n",
    "X_anomaly = X_scaled[y == 1]\n",
    "\n",
    "# Train / test split on normal\n",
    "X_train, X_test_normal = train_test_split(X_normal, test_size=0.2, random_state=42)\n",
    "\n",
    "# Combine test set with anomalies for evaluation\n",
    "X_test = np.vstack([X_test_normal, X_anomaly])\n",
    "y_test = np.hstack([np.zeros(len(X_test_normal)), np.ones(len(X_anomaly))])\n",
    "\n",
    "print(f\"Train shape: {X_train.shape}\")\n",
    "print(f\"Test shape: {X_test.shape}\")"
   ]
  },
  {
   "cell_type": "code",
   "execution_count": 6,
   "id": "0ca3e061-cffb-40c1-892b-edffc19b6158",
   "metadata": {},
   "outputs": [
    {
     "data": {
      "text/html": [
       "<pre style=\"white-space:pre;overflow-x:auto;line-height:normal;font-family:Menlo,'DejaVu Sans Mono',consolas,'Courier New',monospace\"><span style=\"font-weight: bold\">Model: \"sequential\"</span>\n",
       "</pre>\n"
      ],
      "text/plain": [
       "\u001b[1mModel: \"sequential\"\u001b[0m\n"
      ]
     },
     "metadata": {},
     "output_type": "display_data"
    },
    {
     "data": {
      "text/html": [
       "<pre style=\"white-space:pre;overflow-x:auto;line-height:normal;font-family:Menlo,'DejaVu Sans Mono',consolas,'Courier New',monospace\">┏━━━━━━━━━━━━━━━━━━━━━━━━━━━━━━━━━━━━━━┳━━━━━━━━━━━━━━━━━━━━━━━━━━━━━┳━━━━━━━━━━━━━━━━━┓\n",
       "┃<span style=\"font-weight: bold\"> Layer (type)                         </span>┃<span style=\"font-weight: bold\"> Output Shape                </span>┃<span style=\"font-weight: bold\">         Param # </span>┃\n",
       "┡━━━━━━━━━━━━━━━━━━━━━━━━━━━━━━━━━━━━━━╇━━━━━━━━━━━━━━━━━━━━━━━━━━━━━╇━━━━━━━━━━━━━━━━━┩\n",
       "│ dense (<span style=\"color: #0087ff; text-decoration-color: #0087ff\">Dense</span>)                        │ (<span style=\"color: #00d7ff; text-decoration-color: #00d7ff\">None</span>, <span style=\"color: #00af00; text-decoration-color: #00af00\">16</span>)                  │             <span style=\"color: #00af00; text-decoration-color: #00af00\">496</span> │\n",
       "├──────────────────────────────────────┼─────────────────────────────┼─────────────────┤\n",
       "│ dense_1 (<span style=\"color: #0087ff; text-decoration-color: #0087ff\">Dense</span>)                      │ (<span style=\"color: #00d7ff; text-decoration-color: #00d7ff\">None</span>, <span style=\"color: #00af00; text-decoration-color: #00af00\">8</span>)                   │             <span style=\"color: #00af00; text-decoration-color: #00af00\">136</span> │\n",
       "├──────────────────────────────────────┼─────────────────────────────┼─────────────────┤\n",
       "│ dense_2 (<span style=\"color: #0087ff; text-decoration-color: #0087ff\">Dense</span>)                      │ (<span style=\"color: #00d7ff; text-decoration-color: #00d7ff\">None</span>, <span style=\"color: #00af00; text-decoration-color: #00af00\">16</span>)                  │             <span style=\"color: #00af00; text-decoration-color: #00af00\">144</span> │\n",
       "├──────────────────────────────────────┼─────────────────────────────┼─────────────────┤\n",
       "│ dense_3 (<span style=\"color: #0087ff; text-decoration-color: #0087ff\">Dense</span>)                      │ (<span style=\"color: #00d7ff; text-decoration-color: #00d7ff\">None</span>, <span style=\"color: #00af00; text-decoration-color: #00af00\">30</span>)                  │             <span style=\"color: #00af00; text-decoration-color: #00af00\">510</span> │\n",
       "└──────────────────────────────────────┴─────────────────────────────┴─────────────────┘\n",
       "</pre>\n"
      ],
      "text/plain": [
       "┏━━━━━━━━━━━━━━━━━━━━━━━━━━━━━━━━━━━━━━┳━━━━━━━━━━━━━━━━━━━━━━━━━━━━━┳━━━━━━━━━━━━━━━━━┓\n",
       "┃\u001b[1m \u001b[0m\u001b[1mLayer (type)                        \u001b[0m\u001b[1m \u001b[0m┃\u001b[1m \u001b[0m\u001b[1mOutput Shape               \u001b[0m\u001b[1m \u001b[0m┃\u001b[1m \u001b[0m\u001b[1m        Param #\u001b[0m\u001b[1m \u001b[0m┃\n",
       "┡━━━━━━━━━━━━━━━━━━━━━━━━━━━━━━━━━━━━━━╇━━━━━━━━━━━━━━━━━━━━━━━━━━━━━╇━━━━━━━━━━━━━━━━━┩\n",
       "│ dense (\u001b[38;5;33mDense\u001b[0m)                        │ (\u001b[38;5;45mNone\u001b[0m, \u001b[38;5;34m16\u001b[0m)                  │             \u001b[38;5;34m496\u001b[0m │\n",
       "├──────────────────────────────────────┼─────────────────────────────┼─────────────────┤\n",
       "│ dense_1 (\u001b[38;5;33mDense\u001b[0m)                      │ (\u001b[38;5;45mNone\u001b[0m, \u001b[38;5;34m8\u001b[0m)                   │             \u001b[38;5;34m136\u001b[0m │\n",
       "├──────────────────────────────────────┼─────────────────────────────┼─────────────────┤\n",
       "│ dense_2 (\u001b[38;5;33mDense\u001b[0m)                      │ (\u001b[38;5;45mNone\u001b[0m, \u001b[38;5;34m16\u001b[0m)                  │             \u001b[38;5;34m144\u001b[0m │\n",
       "├──────────────────────────────────────┼─────────────────────────────┼─────────────────┤\n",
       "│ dense_3 (\u001b[38;5;33mDense\u001b[0m)                      │ (\u001b[38;5;45mNone\u001b[0m, \u001b[38;5;34m30\u001b[0m)                  │             \u001b[38;5;34m510\u001b[0m │\n",
       "└──────────────────────────────────────┴─────────────────────────────┴─────────────────┘\n"
      ]
     },
     "metadata": {},
     "output_type": "display_data"
    },
    {
     "data": {
      "text/html": [
       "<pre style=\"white-space:pre;overflow-x:auto;line-height:normal;font-family:Menlo,'DejaVu Sans Mono',consolas,'Courier New',monospace\"><span style=\"font-weight: bold\"> Total params: </span><span style=\"color: #00af00; text-decoration-color: #00af00\">1,286</span> (5.02 KB)\n",
       "</pre>\n"
      ],
      "text/plain": [
       "\u001b[1m Total params: \u001b[0m\u001b[38;5;34m1,286\u001b[0m (5.02 KB)\n"
      ]
     },
     "metadata": {},
     "output_type": "display_data"
    },
    {
     "data": {
      "text/html": [
       "<pre style=\"white-space:pre;overflow-x:auto;line-height:normal;font-family:Menlo,'DejaVu Sans Mono',consolas,'Courier New',monospace\"><span style=\"font-weight: bold\"> Trainable params: </span><span style=\"color: #00af00; text-decoration-color: #00af00\">1,286</span> (5.02 KB)\n",
       "</pre>\n"
      ],
      "text/plain": [
       "\u001b[1m Trainable params: \u001b[0m\u001b[38;5;34m1,286\u001b[0m (5.02 KB)\n"
      ]
     },
     "metadata": {},
     "output_type": "display_data"
    },
    {
     "data": {
      "text/html": [
       "<pre style=\"white-space:pre;overflow-x:auto;line-height:normal;font-family:Menlo,'DejaVu Sans Mono',consolas,'Courier New',monospace\"><span style=\"font-weight: bold\"> Non-trainable params: </span><span style=\"color: #00af00; text-decoration-color: #00af00\">0</span> (0.00 B)\n",
       "</pre>\n"
      ],
      "text/plain": [
       "\u001b[1m Non-trainable params: \u001b[0m\u001b[38;5;34m0\u001b[0m (0.00 B)\n"
      ]
     },
     "metadata": {},
     "output_type": "display_data"
    }
   ],
   "source": [
    "input_dim = X_train.shape[1]\n",
    "\n",
    "autoencoder = keras.Sequential([\n",
    "    layers.Input(shape=(input_dim,)),\n",
    "    layers.Dense(16, activation='relu'),\n",
    "    layers.Dense(8, activation='relu'),\n",
    "    layers.Dense(16, activation='relu'),\n",
    "    layers.Dense(input_dim, activation='linear')\n",
    "])\n",
    "\n",
    "autoencoder.compile(optimizer='adam', loss='mse')\n",
    "autoencoder.summary()"
   ]
  },
  {
   "cell_type": "code",
   "execution_count": 7,
   "id": "dcc5db51-6b59-4824-b197-548b049b4cc2",
   "metadata": {},
   "outputs": [
    {
     "name": "stdout",
     "output_type": "stream",
     "text": [
      "Epoch 1/30\n",
      "32/32 - 2s - 64ms/step - loss: 0.8000 - val_loss: 0.7640\n",
      "Epoch 2/30\n",
      "32/32 - 0s - 5ms/step - loss: 0.7549 - val_loss: 0.7398\n",
      "Epoch 3/30\n",
      "32/32 - 0s - 6ms/step - loss: 0.7339 - val_loss: 0.7210\n",
      "Epoch 4/30\n",
      "32/32 - 0s - 7ms/step - loss: 0.7138 - val_loss: 0.7009\n",
      "Epoch 5/30\n",
      "32/32 - 0s - 12ms/step - loss: 0.6920 - val_loss: 0.6784\n",
      "Epoch 6/30\n",
      "32/32 - 0s - 5ms/step - loss: 0.6681 - val_loss: 0.6546\n",
      "Epoch 7/30\n",
      "32/32 - 0s - 5ms/step - loss: 0.6442 - val_loss: 0.6337\n",
      "Epoch 8/30\n",
      "32/32 - 0s - 5ms/step - loss: 0.6264 - val_loss: 0.6194\n",
      "Epoch 9/30\n",
      "32/32 - 0s - 5ms/step - loss: 0.6147 - val_loss: 0.6105\n",
      "Epoch 10/30\n",
      "32/32 - 0s - 6ms/step - loss: 0.6068 - val_loss: 0.6033\n",
      "Epoch 11/30\n",
      "32/32 - 0s - 10ms/step - loss: 0.6005 - val_loss: 0.5980\n",
      "Epoch 12/30\n",
      "32/32 - 0s - 5ms/step - loss: 0.5956 - val_loss: 0.5940\n",
      "Epoch 13/30\n",
      "32/32 - 0s - 6ms/step - loss: 0.5915 - val_loss: 0.5902\n",
      "Epoch 14/30\n",
      "32/32 - 0s - 8ms/step - loss: 0.5881 - val_loss: 0.5873\n",
      "Epoch 15/30\n",
      "32/32 - 0s - 5ms/step - loss: 0.5854 - val_loss: 0.5850\n",
      "Epoch 16/30\n",
      "32/32 - 0s - 5ms/step - loss: 0.5830 - val_loss: 0.5831\n",
      "Epoch 17/30\n",
      "32/32 - 0s - 5ms/step - loss: 0.5808 - val_loss: 0.5815\n",
      "Epoch 18/30\n",
      "32/32 - 0s - 5ms/step - loss: 0.5791 - val_loss: 0.5797\n",
      "Epoch 19/30\n",
      "32/32 - 0s - 7ms/step - loss: 0.5774 - val_loss: 0.5780\n",
      "Epoch 20/30\n",
      "32/32 - 0s - 9ms/step - loss: 0.5758 - val_loss: 0.5765\n",
      "Epoch 21/30\n",
      "32/32 - 0s - 8ms/step - loss: 0.5743 - val_loss: 0.5754\n",
      "Epoch 22/30\n",
      "32/32 - 0s - 6ms/step - loss: 0.5731 - val_loss: 0.5737\n",
      "Epoch 23/30\n",
      "32/32 - 0s - 5ms/step - loss: 0.5717 - val_loss: 0.5727\n",
      "Epoch 24/30\n",
      "32/32 - 0s - 5ms/step - loss: 0.5706 - val_loss: 0.5720\n",
      "Epoch 25/30\n",
      "32/32 - 0s - 5ms/step - loss: 0.5694 - val_loss: 0.5706\n",
      "Epoch 26/30\n",
      "32/32 - 0s - 6ms/step - loss: 0.5684 - val_loss: 0.5695\n",
      "Epoch 27/30\n",
      "32/32 - 0s - 7ms/step - loss: 0.5671 - val_loss: 0.5688\n",
      "Epoch 28/30\n",
      "32/32 - 0s - 5ms/step - loss: 0.5663 - val_loss: 0.5674\n",
      "Epoch 29/30\n",
      "32/32 - 0s - 6ms/step - loss: 0.5656 - val_loss: 0.5668\n",
      "Epoch 30/30\n",
      "32/32 - 0s - 6ms/step - loss: 0.5648 - val_loss: 0.5662\n"
     ]
    }
   ],
   "source": [
    "history = autoencoder.fit(\n",
    "    X_train, X_train,\n",
    "    epochs=30,\n",
    "    batch_size=256,\n",
    "    validation_data=(X_test_normal, X_test_normal),\n",
    "    verbose=2\n",
    ")"
   ]
  },
  {
   "cell_type": "code",
   "execution_count": 8,
   "id": "a541476b-9ef5-4312-91f1-04ad971e40f0",
   "metadata": {},
   "outputs": [
    {
     "data": {
      "image/png": "[encoded data removed]",
      "text/plain": [
       "<Figure size 640x480 with 1 Axes>"
      ]
     },
     "metadata": {},
     "output_type": "display_data"
    }
   ],
   "source": [
    "plt.plot(history.history['loss'], label='Train Loss')\n",
    "plt.plot(history.history['val_loss'], label='Validation Loss')\n",
    "plt.legend()\n",
    "plt.title(\"Training and Validation Loss\")\n",
    "plt.show()"
   ]
  },
  {
   "cell_type": "code",
   "execution_count": 9,
   "id": "9602d257-3c0d-4b56-a685-ea20bcf3ca4e",
   "metadata": {},
   "outputs": [
    {
     "name": "stdout",
     "output_type": "stream",
     "text": [
      "\u001b[1m69/69\u001b[0m \u001b[32m━━━━━━━━━━━━━━━━━━━━\u001b[0m\u001b[37m\u001b[0m \u001b[1m0s\u001b[0m 2ms/step\n"
     ]
    },
    {
     "data": {
      "text/html": [
       "<div>\n",
       "<style scoped>\n",
       "    .dataframe tbody tr th:only-of-type {\n",
       "        vertical-align: middle;\n",
       "    }\n",
       "\n",
       "    .dataframe tbody tr th {\n",
       "        vertical-align: top;\n",
       "    }\n",
       "\n",
       "    .dataframe thead th {\n",
       "        text-align: right;\n",
       "    }\n",
       "</style>\n",
       "<table border=\"1\" class=\"dataframe\">\n",
       "  <thead>\n",
       "    <tr style=\"text-align: right;\">\n",
       "      <th></th>\n",
       "      <th>reconstruction_error</th>\n",
       "      <th>true_label</th>\n",
       "    </tr>\n",
       "  </thead>\n",
       "  <tbody>\n",
       "    <tr>\n",
       "      <th>0</th>\n",
       "      <td>0.682795</td>\n",
       "      <td>0.0</td>\n",
       "    </tr>\n",
       "    <tr>\n",
       "      <th>1</th>\n",
       "      <td>0.243180</td>\n",
       "      <td>0.0</td>\n",
       "    </tr>\n",
       "    <tr>\n",
       "      <th>2</th>\n",
       "      <td>0.501998</td>\n",
       "      <td>0.0</td>\n",
       "    </tr>\n",
       "    <tr>\n",
       "      <th>3</th>\n",
       "      <td>0.703831</td>\n",
       "      <td>0.0</td>\n",
       "    </tr>\n",
       "    <tr>\n",
       "      <th>4</th>\n",
       "      <td>0.402694</td>\n",
       "      <td>0.0</td>\n",
       "    </tr>\n",
       "  </tbody>\n",
       "</table>\n",
       "</div>"
      ],
      "text/plain": [
       "   reconstruction_error  true_label\n",
       "0              0.682795         0.0\n",
       "1              0.243180         0.0\n",
       "2              0.501998         0.0\n",
       "3              0.703831         0.0\n",
       "4              0.402694         0.0"
      ]
     },
     "execution_count": 9,
     "metadata": {},
     "output_type": "execute_result"
    }
   ],
   "source": [
    "# Predict on test set\n",
    "X_test_pred = autoencoder.predict(X_test)\n",
    "reconstruction_error = np.mean(np.square(X_test - X_test_pred), axis=1)\n",
    "\n",
    "# Add to DataFrame\n",
    "results = pd.DataFrame({\n",
    "    'reconstruction_error': reconstruction_error,\n",
    "    'true_label': y_test\n",
    "})\n",
    "\n",
    "results.head()"
   ]
  },
  {
   "cell_type": "code",
   "execution_count": 12,
   "id": "b9cc28f5-251f-42c9-ba45-179a9dc4fbcb",
   "metadata": {},
   "outputs": [
    {
     "data": {
      "image/png": "[encoded data removed]",
      "text/plain": [
       "<Figure size 1000x600 with 1 Axes>"
      ]
     },
     "metadata": {},
     "output_type": "display_data"
    }
   ],
   "source": [
    "plt.figure(figsize=(10,6))\n",
    "sns.histplot(results[results.true_label == 0]['reconstruction_error'], bins=50, color='green', label='Normal')\n",
    "sns.histplot(results[results.true_label == 1]['reconstruction_error'], bins=50, color='red', label='Anomaly')\n",
    "plt.legend()\n",
    "plt.title(\"Reconstruction Error Distribution\")\n",
    "plt.show()"
   ]
  },
  {
   "cell_type": "code",
   "execution_count": 10,
   "id": "8261cf0e-3bdd-42c8-a4a4-08ae32741ef1",
   "metadata": {},
   "outputs": [
    {
     "name": "stdout",
     "output_type": "stream",
     "text": [
      "Chosen threshold: 1.0477\n"
     ]
    }
   ],
   "source": [
    "threshold = results[results.true_label == 0]['reconstruction_error'].quantile(0.99)\n",
    "print(f\"Chosen threshold: {threshold:.4f}\")"
   ]
  },
  {
   "cell_type": "code",
   "execution_count": 11,
   "id": "6160cbf0-c17a-4c37-826f-e03f03c4adeb",
   "metadata": {},
   "outputs": [
    {
     "name": "stdout",
     "output_type": "stream",
     "text": [
      "              precision    recall  f1-score   support\n",
      "\n",
      "         0.0       1.00      0.99      0.99      2000\n",
      "         1.0       0.91      1.00      0.95       200\n",
      "\n",
      "    accuracy                           0.99      2200\n",
      "   macro avg       0.95      0.99      0.97      2200\n",
      "weighted avg       0.99      0.99      0.99      2200\n",
      "\n",
      "[[1980   20]\n",
      " [   0  200]]\n"
     ]
    }
   ],
   "source": [
    "results['predicted_label'] = (results['reconstruction_error'] > threshold).astype(int)\n",
    "\n",
    "from sklearn.metrics import classification_report, confusion_matrix\n",
    "\n",
    "print(classification_report(results['true_label'], results['predicted_label']))\n",
    "print(confusion_matrix(results['true_label'], results['predicted_label']))"
   ]
  },
  {
   "cell_type": "code",
   "execution_count": null,
   "id": "ee01f64e-a6f7-4b0b-a251-2098bd902ea2",
   "metadata": {},
   "outputs": [],
   "source": []
  }
 ],
 "metadata": {
  "kernelspec": {
   "display_name": "Python 3 (ipykernel)",
   "language": "python",
   "name": "python3"
  },
  "language_info": {
   "codemirror_mode": {
    "name": "ipython",
    "version": 3
   },
   "file_extension": ".py",
   "mimetype": "text/x-python",
   "name": "python",
   "nbconvert_exporter": "python",
   "pygments_lexer": "ipython3",
   "version": "3.11.8"
  }
 },
 "nbformat": 4,
 "nbformat_minor": 5
}
